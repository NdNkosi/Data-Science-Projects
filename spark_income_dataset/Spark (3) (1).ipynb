{
  "nbformat": 4,
  "nbformat_minor": 0,
  "metadata": {
    "colab": {
      "provenance": []
    },
    "kernelspec": {
      "name": "python3",
      "display_name": "Python 3"
    },
    "language_info": {
      "name": "python"
    }
  },
  "cells": [
    {
      "cell_type": "markdown",
      "source": [
        "To run any individual cell, press shift+enter. The first cell installs pyspark, so click on the cell below and hit shift+enter to install spark into this environment"
      ],
      "metadata": {
        "id": "y1fx3FedRrga"
      }
    },
    {
      "cell_type": "code",
      "source": [
        "from pyspark.sql import SparkSession\n",
        "from pyspark.ml.feature import (StringIndexer, OneHotEncoder, VectorAssembler,\n",
        "                               StandardScaler)\n",
        "from pyspark.ml.classification import RandomForestClassifier, DecisionTreeClassifier\n",
        "from pyspark.ml import Pipeline\n",
        "from pyspark.ml.evaluation import MulticlassClassificationEvaluator, BinaryClassificationEvaluator\n",
        "# from pyspark.mllib.evaluation import MulticlassMetrics # Removed\n",
        "\n",
        "# Initialize Spark\n",
        "spark = SparkSession.builder.appName('IncomePrediction').getOrCreate()\n",
        "\n",
        "# Load data\n",
        "df = spark.read.csv('income.csv', header=True, inferSchema=True)\n",
        "\n",
        "# Step 1: Preprocess target\n",
        "label_indexer = StringIndexer(inputCol=\"income_class\", outputCol=\"label\", handleInvalid=\"keep\")\n",
        "\n",
        "# Step 2: Preprocess categorical features\n",
        "categorical_cols = [t[0] for t in df.dtypes if t[1] == 'string' and t[0] != \"income_class\"]\n",
        "indexers = [StringIndexer(inputCol=col, outputCol=col + \"_index\", handleInvalid=\"keep\") for col in categorical_cols]\n",
        "encoder = OneHotEncoder(inputCols=[col + \"_index\" for col in categorical_cols],\n",
        "                        outputCols=[col + \"_encoded\" for col in categorical_cols])\n",
        "\n",
        "# Step 3: Preprocess numerical features\n",
        "numeric_cols = [t[0] for t in df.dtypes if t[1] in ('int', 'double') and t[0] != \"income_class\"]\n",
        "numeric_assembler = VectorAssembler(inputCols=numeric_cols, outputCol=\"numeric_features\")\n",
        "scaler = StandardScaler(inputCol=\"numeric_features\", outputCol=\"scaled_features\")\n",
        "\n",
        "# Step 4: Assemble all features\n",
        "assembler = VectorAssembler(\n",
        "    inputCols=[\"scaled_features\"] + [col + \"_encoded\" for col in categorical_cols],\n",
        "    outputCol=\"features\"\n",
        ")\n",
        "\n",
        "# Step 5: Define models\n",
        "rf = RandomForestClassifier(featuresCol=\"features\", labelCol=\"label\", numTrees=100, maxDepth=5)\n",
        "dt = DecisionTreeClassifier(featuresCol=\"features\", labelCol=\"label\", maxDepth=5)\n",
        "\n",
        "# Step 6: Build pipeline\n",
        "pipeline = Pipeline(stages=[label_indexer] + indexers + [encoder, numeric_assembler, scaler, assembler, dt])\n",
        "\n",
        "# Step 7: Train and evaluate\n",
        "train, test = df.randomSplit([0.7, 0.3], seed=42)\n",
        "model = pipeline.fit(train)\n",
        "predictions = model.transform(test)\n",
        "\n",
        "# Metrics\n",
        "evaluator = MulticlassClassificationEvaluator(labelCol=\"label\", metricName=\"accuracy\")\n",
        "print(f\"Accuracy: {evaluator.evaluate(predictions):.4f}\")\n",
        "\n",
        "# Calculate Precision and Recall using MulticlassClassificationEvaluator\n",
        "precision_evaluator = MulticlassClassificationEvaluator(labelCol=\"label\", metricName=\"weightedPrecision\")\n",
        "recall_evaluator = MulticlassClassificationEvaluator(labelCol=\"label\", metricName=\"weightedRecall\")\n",
        "\n",
        "print(f\"Weighted Precision: {precision_evaluator.evaluate(predictions):.4f}\")\n",
        "print(f\"Weighted Recall: {recall_evaluator.evaluate(predictions):.4f}\")"
      ],
      "metadata": {
        "colab": {
          "base_uri": "https://localhost:8080/"
        },
        "id": "JsL5mfA08IjU",
        "outputId": "9e37e82c-bef5-4c26-8311-2c65d0bd3c2c"
      },
      "execution_count": null,
      "outputs": [
        {
          "output_type": "stream",
          "name": "stdout",
          "text": [
            "Accuracy: 0.8355\n",
            "Weighted Precision: 0.8277\n",
            "Weighted Recall: 0.8355\n"
          ]
        }
      ]
    }
  ]
}